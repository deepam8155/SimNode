{
 "cells": [
  {
   "cell_type": "markdown",
   "metadata": {},
   "source": [
    "# Food Graph  "
   ]
  },
  {
   "cell_type": "code",
   "execution_count": null,
   "metadata": {},
   "outputs": [],
   "source": [
    "import pandas as pd\n",
    "import uuid\n",
    "import numpy as np"
   ]
  },
  {
   "cell_type": "code",
   "execution_count": null,
   "metadata": {},
   "outputs": [],
   "source": [
    "ZOMATO_RESTAURANTS_CSV = \"\"   # Path to zomato_restaurants_csv  https://www.kaggle.com/himanshupoddar/zomato-bangalore-restaurants"
   ]
  },
  {
   "cell_type": "markdown",
   "metadata": {},
   "source": [
    "### Restaurants Nodes"
   ]
  },
  {
   "cell_type": "code",
   "execution_count": null,
   "metadata": {},
   "outputs": [],
   "source": [
    "df = pd.read_csv(ZOMATO_RESTAURANTS_CSV)\n",
    "df = df.fillna(\"\")\n",
    "df = df.drop_duplicates(['name'])\n",
    "df['uuid:ID(Restaurant)'] = [str(uuid.uuid4()) for i in range(len(df))]\n",
    "df = df.drop(['rate','approx_cost(for two people)','phone','votes'],axis=1)\n",
    "df.to_csv(\"./restaurant.csv\")"
   ]
  },
  {
   "cell_type": "markdown",
   "metadata": {},
   "source": [
    "### Location Nodes"
   ]
  },
  {
   "cell_type": "code",
   "execution_count": null,
   "metadata": {},
   "outputs": [],
   "source": [
    "locations = pd.DataFrame()\n",
    "locations['name'] = df['location'].unique()\n",
    "locations['uuid:ID(Location)'] = [str(uuid.uuid4()) for i in range(len(locations))]\n",
    "locations.set_index('name',inplace=True)\n",
    "locations.to_csv(\"./locations.csv\")"
   ]
  },
  {
   "cell_type": "markdown",
   "metadata": {},
   "source": [
    "### Restaurant-Location Relation (In Area)"
   ]
  },
  {
   "cell_type": "code",
   "execution_count": null,
   "metadata": {},
   "outputs": [],
   "source": [
    "restaurant_location = pd.DataFrame({':START_ID(Restaurant)':df['uuid:ID(Restaurant)'].values})\n",
    "restaurant_location[':END_ID(Location)'] = df['location'].apply(lambda x:locations.loc[x,\"uuid:ID(Location)\"])\n",
    "restaurant_location.to_csv(\"./restaurant_location.csv\")"
   ]
  },
  {
   "cell_type": "markdown",
   "metadata": {},
   "source": [
    "### Type Nodes"
   ]
  },
  {
   "cell_type": "code",
   "execution_count": null,
   "metadata": {},
   "outputs": [],
   "source": [
    "df['rest_type'] = df['rest_type'].apply(lambda x: list(map(lambda s:s.strip(), x.split(','))))\n",
    "type_restaurant = df['rest_type'].tolist()\n",
    "unique_types = []\n",
    "for i in type_restaurant:\n",
    "    for j in i:\n",
    "        unique_types.append(j.strip())\n",
    "unique_types = list(set(unique_types))\n",
    "types = pd.DataFrame()\n",
    "types['name'] = unique_types\n",
    "types['uuid:ID(Type)'] = [str(uuid.uuid4()) for i in range(len(types))]\n",
    "types.set_index('name',inplace=True)\n",
    "types.to_csv(\"./type.csv\")"
   ]
  },
  {
   "cell_type": "markdown",
   "metadata": {},
   "source": [
    "### Restaurant-Type Node (Fall Under)"
   ]
  },
  {
   "cell_type": "code",
   "execution_count": null,
   "metadata": {},
   "outputs": [],
   "source": [
    "type_restaurant = pd.DataFrame({':START_ID(Restaurant)':np.repeat(df['uuid:ID(Restaurant)'].values, df['rest_type'].str.len()),':END_ID(Type)':np.concatenate(df['rest_type'].values)})\n",
    "type_restaurant[':END_ID(Type)'] = type_restaurant[':END_ID(Type)'].apply(lambda x:types.loc[x,\"uuid:ID(Type)\"])\n",
    "type_restaurant.to_csv(\"./type_restaurant.csv\")"
   ]
  },
  {
   "cell_type": "markdown",
   "metadata": {},
   "source": [
    "### Cuisine Nodes"
   ]
  },
  {
   "cell_type": "code",
   "execution_count": null,
   "metadata": {},
   "outputs": [],
   "source": [
    "df['cuisines'] = df['cuisines'].apply(lambda x: list(map(lambda s:s.strip(\"[]\").replace(\"'\",\"\"), x.split(','))))\n",
    "cuisines = df['cuisines'].tolist()\n",
    "unique_cuisines = []\n",
    "for i in cuisines:\n",
    "    for j in i:\n",
    "        unique_cuisines.append(j)\n",
    "unique_cuisines = list(set(unique_cuisines))\n",
    "cuisines = pd.DataFrame()\n",
    "cuisines['name'] = unique_cuisines\n",
    "cuisines['uuid:ID(Cuisine)'] = [str(uuid.uuid4()) for i in range(len(cuisines))]\n",
    "cuisines.set_index('name',inplace=True)\n",
    "cuisines.to_csv(\"./cuisine.csv\")"
   ]
  },
  {
   "cell_type": "markdown",
   "metadata": {},
   "source": [
    "### Restaurant-Cuisine Relation (Serves Cuisine)"
   ]
  },
  {
   "cell_type": "code",
   "execution_count": null,
   "metadata": {},
   "outputs": [],
   "source": [
    "cuisine_restaurant = []\n",
    "for resto in df[['uuid:ID(Restaurant)','cuisines']].itertuples():\n",
    "    for cus in resto[2]:\n",
    "        cuisine_restaurant.append([resto[1],cuisines.loc[cus,\"uuid:ID(Cuisine)\"]])\n",
    "\n",
    "cuisine_restaurant = pd.DataFrame(cuisine_restaurant,columns=[':START_ID(Restaurant)',':END_ID(Cuisine)'])\n",
    "cuisine_restaurant.to_csv(\"./cuisine_restaurant.csv\")"
   ]
  },
  {
   "cell_type": "markdown",
   "metadata": {},
   "source": [
    "### Dish Nodes"
   ]
  },
  {
   "cell_type": "code",
   "execution_count": null,
   "metadata": {},
   "outputs": [],
   "source": [
    "df['menu_item'] = df['menu_item'].apply(lambda x: list(map(lambda s:s.strip(\"[]\").replace(\"'\",\"\").strip(\" \"), x.split(','))))\n",
    "dishes = df['menu_item'].tolist()\n",
    "unique_dishes = []\n",
    "for i in dishes:\n",
    "    for j in i:\n",
    "        unique_dishes.append(j)\n",
    "unique_dishes = list(set(unique_dishes))\n",
    "dishes = pd.DataFrame()\n",
    "dishes['name'] = unique_dishes\n",
    "dishes['uuid:ID(Dish)'] = [str(uuid.uuid4()) for i in range(len(dishes))]\n",
    "dishes.set_index('name',inplace=True)\n",
    "dishes.to_csv(\"./dishes.csv\")"
   ]
  },
  {
   "cell_type": "markdown",
   "metadata": {},
   "source": [
    "### Restaurant-Dish Relation (Serves Dish)"
   ]
  },
  {
   "cell_type": "code",
   "execution_count": null,
   "metadata": {},
   "outputs": [],
   "source": [
    "restaurant_dish = pd.DataFrame({':START_ID(Restaurant)':np.repeat(df['uuid:ID(Restaurant)'].values, df['menu_item'].str.len()),':END_ID(Dish)':np.concatenate(df['menu_item'].values)})\n",
    "restaurant_dish[':END_ID(Dish)'] = restaurant_dish[':END_ID(Dish)'].apply(lambda x:dishes.loc[x,\"uuid:ID(Dish)\"])\n",
    "restaurant_dish.to_csv(\"./restaurant_dish.csv\")"
   ]
  },
  {
   "cell_type": "markdown",
   "metadata": {},
   "source": [
    "### Restaurant-Dish Relation (Famous For)"
   ]
  },
  {
   "cell_type": "code",
   "execution_count": null,
   "metadata": {
    "scrolled": false
   },
   "outputs": [],
   "source": [
    "liked_dishes_restaurant = []\n",
    "for resto in df[['uuid:ID(Restaurant)','dish_liked']].itertuples():\n",
    "    for cus in resto[2].strip().split(\",\"):\n",
    "        try:\n",
    "            liked_dishes_restaurant.append([resto[1],dishes.loc[cus.strip(),\"uuid:ID(Dish)\"]])\n",
    "        except:\n",
    "            pass\n",
    "\n",
    "liked_dishes_restaurant = pd.DataFrame(liked_dishes_restaurant,columns=[':START_ID(Restaurant)',':END_ID(Dish)'])\n",
    "liked_dishes_restaurant.to_csv(\"./liked_dishes_restaurant.csv\")"
   ]
  },
  {
   "cell_type": "markdown",
   "metadata": {},
   "source": [
    "### To directly import the csv into  Neo4j using neo4j-admin import run"
   ]
  },
  {
   "cell_type": "code",
   "execution_count": null,
   "metadata": {},
   "outputs": [],
   "source": [
    "# sudo ./bin/neo4j-admin import --database zomato.db  --mode csv --ignore-missing-nodes --multiline-fields=True --ignore-duplicate-nodes --nodes:Location=import/locations.csv --nodes:Restaurant=import/restaurant.csv --nodes:Dish=import/dishes.csv --nodes:Type=import/type.csv --nodes:Cuisine=import/cuisine.csv --relationships:SERVES_CUISINE=import/cuisine_restaurant.csv --relationships:SERVES_DISH=import/restaurant_dish.csv --relationships:FALL_UNDER import/type_restaurant.csv --relationships:FAMOUS_FOR=import/liked_dishes_restaurant.csv --relationships:IN_AREA=import/restaurant_location.csv"
   ]
  }
 ],
 "metadata": {
  "kernelspec": {
   "display_name": "Python 3",
   "language": "python",
   "name": "python3"
  },
  "language_info": {
   "codemirror_mode": {
    "name": "ipython",
    "version": 3
   },
   "file_extension": ".py",
   "mimetype": "text/x-python",
   "name": "python",
   "nbconvert_exporter": "python",
   "pygments_lexer": "ipython3",
   "version": "3.5.4"
  }
 },
 "nbformat": 4,
 "nbformat_minor": 1
}
